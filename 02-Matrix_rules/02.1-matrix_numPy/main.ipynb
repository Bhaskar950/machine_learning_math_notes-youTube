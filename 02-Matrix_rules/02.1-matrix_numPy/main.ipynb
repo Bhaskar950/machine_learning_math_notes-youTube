{
 "cells": [
  {
   "cell_type": "code",
   "execution_count": 11,
   "id": "48d17e3e-1775-408a-995e-9f8e681d0c39",
   "metadata": {},
   "outputs": [
    {
     "name": "stdout",
     "output_type": "stream",
     "text": [
      "[3 4 4]\n",
      "[-1 -6  0]\n",
      "[ 3 -3  6]\n",
      "[ 2 -5  4]\n",
      "5.744562646538029\n",
      "1\n"
     ]
    }
   ],
   "source": [
    "import numpy as np\n",
    "\n",
    "v = np.array([1,-1,2])\n",
    "w = np.array([2,5,2])\n",
    "print(v+w)\n",
    "print(v-w)\n",
    "print(3*v)\n",
    "print(v*w)\n",
    "\n",
    "print(np.linalg.norm(w))\n",
    "print(np.dot(v,w))"
   ]
  },
  {
   "cell_type": "code",
   "execution_count": 31,
   "id": "3faa1e3f-ac18-4e1b-aa09-61cefbf107f0",
   "metadata": {},
   "outputs": [
    {
     "name": "stdout",
     "output_type": "stream",
     "text": [
      "[[ 2 10]\n",
      " [ 7 10]\n",
      " [13 14]]\n"
     ]
    }
   ],
   "source": [
    "# matrix \n",
    "\n",
    "a = np.array([[1,7],[3,5],[7,6]])\n",
    "b = np.array([[1,3],[4,5],[6,8]])\n",
    "\n",
    "c = np.add(a,b)\n",
    "print(c)\n",
    "# print(b)"
   ]
  },
  {
   "cell_type": "code",
   "execution_count": 37,
   "id": "1e408c1b-4845-43ec-aecd-8f618fbf44c5",
   "metadata": {},
   "outputs": [
    {
     "data": {
      "text/plain": [
       "array([[ 0,  4],\n",
       "       [-1,  0],\n",
       "       [ 1, -2]])"
      ]
     },
     "execution_count": 37,
     "metadata": {},
     "output_type": "execute_result"
    }
   ],
   "source": [
    "d = np.subtract(a,b)\n",
    "print\n",
    "(d)"
   ]
  },
  {
   "cell_type": "code",
   "execution_count": 41,
   "id": "b26a032f-cd1a-4017-b2f8-4fdafdf8602e",
   "metadata": {},
   "outputs": [
    {
     "name": "stdout",
     "output_type": "stream",
     "text": [
      "[[ 0 -4]\n",
      " [ 1  0]\n",
      " [-1  2]]\n"
     ]
    }
   ],
   "source": [
    "e = np.subtract(b,a)\n",
    "print(e)"
   ]
  },
  {
   "cell_type": "code",
   "execution_count": 45,
   "id": "3db36287-5b68-458e-925e-a29ecc68d50c",
   "metadata": {},
   "outputs": [
    {
     "name": "stdout",
     "output_type": "stream",
     "text": [
      "[[ 2 10]\n",
      " [ 7 10]\n",
      " [13 14]]\n"
     ]
    }
   ],
   "source": [
    "f = np.add(b,a)\n",
    "print(f)"
   ]
  },
  {
   "cell_type": "code",
   "execution_count": 55,
   "id": "7abc8f1c-2e64-414f-9020-f9dc09de8acb",
   "metadata": {},
   "outputs": [
    {
     "name": "stdout",
     "output_type": "stream",
     "text": [
      "[[1 7]\n",
      " [2 1]\n",
      " [3 2]]\n"
     ]
    }
   ],
   "source": [
    "P = np.array([[1,7],[2,1],[3,2]])\n",
    "print(P)"
   ]
  },
  {
   "cell_type": "code",
   "execution_count": 57,
   "id": "1d9e6a6e-d944-4b7e-89f7-e3618afaf120",
   "metadata": {},
   "outputs": [
    {
     "name": "stdout",
     "output_type": "stream",
     "text": [
      "[[1 3 1]\n",
      " [1 0 1]]\n"
     ]
    }
   ],
   "source": [
    "R = np.array([[1,3,1],[1,0,1]])\n",
    "print(R)"
   ]
  },
  {
   "cell_type": "code",
   "execution_count": 63,
   "id": "f0684951-f6c7-4adb-a1ee-1c2ca128db67",
   "metadata": {},
   "outputs": [
    {
     "name": "stdout",
     "output_type": "stream",
     "text": [
      "[[8 3 8]\n",
      " [3 6 3]\n",
      " [5 9 5]]\n"
     ]
    }
   ],
   "source": [
    "c2 = np.dot(P,R)\n",
    "print(c2)"
   ]
  },
  {
   "cell_type": "code",
   "execution_count": null,
   "id": "9a6cfd6a-3d2c-4aaa-af8f-b5e4ba50af52",
   "metadata": {},
   "outputs": [],
   "source": []
  },
  {
   "cell_type": "code",
   "execution_count": 70,
   "id": "879237ed-1fab-41c8-a74f-f0672848e8c9",
   "metadata": {},
   "outputs": [
    {
     "name": "stdout",
     "output_type": "stream",
     "text": [
      "0.0\n"
     ]
    }
   ],
   "source": [
    "det = np.linalg.det(c2)\n",
    "print(det)"
   ]
  },
  {
   "cell_type": "code",
   "execution_count": null,
   "id": "f1baedf0-e35a-4570-9a4d-4c99dbf53ba0",
   "metadata": {},
   "outputs": [],
   "source": []
  }
 ],
 "metadata": {
  "kernelspec": {
   "display_name": "Python 3 (ipykernel)",
   "language": "python",
   "name": "python3"
  },
  "language_info": {
   "codemirror_mode": {
    "name": "ipython",
    "version": 3
   },
   "file_extension": ".py",
   "mimetype": "text/x-python",
   "name": "python",
   "nbconvert_exporter": "python",
   "pygments_lexer": "ipython3",
   "version": "3.12.4"
  }
 },
 "nbformat": 4,
 "nbformat_minor": 5
}
