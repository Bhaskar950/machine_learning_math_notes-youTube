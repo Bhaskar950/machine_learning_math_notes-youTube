{
 "cells": [
  {
   "cell_type": "code",
   "execution_count": 1,
   "metadata": {},
   "outputs": [
    {
     "name": "stdout",
     "output_type": "stream",
     "text": [
      "Vector: [1 2 3]\n"
     ]
    }
   ],
   "source": [
    "# 1. Creating Vectors\n",
    "# You can create vectors using numpy.array()\n",
    "\n",
    "import numpy as np\n",
    "# Create a vector\n",
    "vector = np.array([1, 2, 3])\n",
    "\n",
    "print(\"Vector:\", vector)\n"
   ]
  },
  {
   "cell_type": "code",
   "execution_count": 4,
   "metadata": {},
   "outputs": [
    {
     "name": "stdout",
     "output_type": "stream",
     "text": [
      "Vector Addition: [5 7 9]\n"
     ]
    }
   ],
   "source": [
    "# 2. Vector Addition\n",
    "# Adding two vectors of the same size.\n",
    "\n",
    "vector_a = np.array([1, 2, 3])\n",
    "vector_b = np.array([4, 5, 6])\n",
    "\n",
    "# Adding vectors\n",
    "result = vector_a + vector_b\n",
    "print(\"Vector Addition:\", result)\n"
   ]
  },
  {
   "cell_type": "code",
   "execution_count": 6,
   "metadata": {},
   "outputs": [
    {
     "name": "stdout",
     "output_type": "stream",
     "text": [
      "Scalar Multiplication: [3 6 9]\n"
     ]
    }
   ],
   "source": [
    "# 3. Scalar Multiplication\n",
    "# Multiplying a vector by a scalar.\n",
    "\n",
    "scalar = 3\n",
    "vector = np.array([1, 2, 3])\n",
    "\n",
    "# Scalar multiplication\n",
    "result = scalar * vector\n",
    "print(\"Scalar Multiplication:\", result)\n"
   ]
  },
  {
   "cell_type": "code",
   "execution_count": 8,
   "metadata": {},
   "outputs": [
    {
     "name": "stdout",
     "output_type": "stream",
     "text": [
      "Dot Product: 32\n"
     ]
    }
   ],
   "source": [
    "# 4. Dot Product\n",
    "# The dot product of two vectors is a scalar.\n",
    "\n",
    "vector_a = np.array([1, 2, 3])\n",
    "vector_b = np.array([4, 5, 6])\n",
    "\n",
    "# Dot product\n",
    "result = np.dot(vector_a, vector_b)\n",
    "print(\"Dot Product:\", result)\n",
    "\n"
   ]
  },
  {
   "cell_type": "code",
   "execution_count": 10,
   "metadata": {},
   "outputs": [
    {
     "name": "stdout",
     "output_type": "stream",
     "text": [
      "Magnitude of Vector: 3.7416573867739413\n"
     ]
    }
   ],
   "source": [
    "# 5. Magnitude of a Vector\n",
    "# The magnitude (or norm) of a vector is its length.\n",
    "\n",
    "vector = np.array([1, 2, 3])\n",
    "\n",
    "# Magnitude of the vector\n",
    "magnitude = np.linalg.norm(vector)\n",
    "print(\"Magnitude of Vector:\", magnitude)\n"
   ]
  },
  {
   "cell_type": "code",
   "execution_count": 12,
   "metadata": {},
   "outputs": [
    {
     "name": "stdout",
     "output_type": "stream",
     "text": [
      "Cosine of Angle: 0.9746318461970762\n"
     ]
    }
   ],
   "source": [
    "# 6. Angle Between Two Vectors\n",
    "# The cosine of the angle between two vectors can be found using the dot product and magnitudes.\n",
    "vector_a = np.array([1, 2, 3])\n",
    "vector_b = np.array([4, 5, 6])\n",
    "\n",
    "# Cosine of the angle between the vectors\n",
    "cosine_angle = np.dot(vector_a, vector_b) / (np.linalg.norm(vector_a) * np.linalg.norm(vector_b))\n",
    "print(\"Cosine of Angle:\", cosine_angle)"
   ]
  },
  {
   "cell_type": "code",
   "execution_count": 14,
   "metadata": {},
   "outputs": [
    {
     "name": "stdout",
     "output_type": "stream",
     "text": [
      "Cross Product: [-3  6 -3]\n"
     ]
    }
   ],
   "source": [
    "# 7. Cross Product\n",
    "# The cross product of two 3D vectors results in another 3D vector.\n",
    "vector_a = np.array([1, 2, 3])\n",
    "vector_b = np.array([4, 5, 6])\n",
    "\n",
    "# Cross product\n",
    "result = np.cross(vector_a, vector_b)\n",
    "print(\"Cross Product:\", result)\n"
   ]
  },
  {
   "cell_type": "code",
   "execution_count": null,
   "metadata": {},
   "outputs": [],
   "source": []
  }
 ],
 "metadata": {
  "kernelspec": {
   "display_name": "Python 3 (ipykernel)",
   "language": "python",
   "name": "python3"
  },
  "language_info": {
   "codemirror_mode": {
    "name": "ipython",
    "version": 3
   },
   "file_extension": ".py",
   "mimetype": "text/x-python",
   "name": "python",
   "nbconvert_exporter": "python",
   "pygments_lexer": "ipython3",
   "version": "3.12.4"
  }
 },
 "nbformat": 4,
 "nbformat_minor": 4
}
